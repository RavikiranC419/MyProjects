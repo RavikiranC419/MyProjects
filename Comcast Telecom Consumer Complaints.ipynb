{
 "cells": [
  {
   "cell_type": "markdown",
   "metadata": {},
   "source": [
    "# Importing the Libraries"
   ]
  },
  {
   "cell_type": "code",
   "execution_count": 106,
   "metadata": {},
   "outputs": [],
   "source": [
    "import numpy as np\n",
    "import pandas as pd\n",
    "import matplotlib.pyplot as plt"
   ]
  },
  {
   "cell_type": "markdown",
   "metadata": {},
   "source": [
    "# Importing the Dataset"
   ]
  },
  {
   "cell_type": "code",
   "execution_count": 107,
   "metadata": {},
   "outputs": [],
   "source": [
    "data = pd.read_csv(\"Comcast_telecom_complaints_data.csv\")"
   ]
  },
  {
   "cell_type": "code",
   "execution_count": 108,
   "metadata": {},
   "outputs": [
    {
     "data": {
      "text/html": [
       "<div>\n",
       "<style scoped>\n",
       "    .dataframe tbody tr th:only-of-type {\n",
       "        vertical-align: middle;\n",
       "    }\n",
       "\n",
       "    .dataframe tbody tr th {\n",
       "        vertical-align: top;\n",
       "    }\n",
       "\n",
       "    .dataframe thead th {\n",
       "        text-align: right;\n",
       "    }\n",
       "</style>\n",
       "<table border=\"1\" class=\"dataframe\">\n",
       "  <thead>\n",
       "    <tr style=\"text-align: right;\">\n",
       "      <th></th>\n",
       "      <th>Ticket #</th>\n",
       "      <th>Customer Complaint</th>\n",
       "      <th>Date</th>\n",
       "      <th>Date_month_year</th>\n",
       "      <th>Time</th>\n",
       "      <th>Received Via</th>\n",
       "      <th>City</th>\n",
       "      <th>State</th>\n",
       "      <th>Zip code</th>\n",
       "      <th>Status</th>\n",
       "      <th>Filing on Behalf of Someone</th>\n",
       "    </tr>\n",
       "  </thead>\n",
       "  <tbody>\n",
       "    <tr>\n",
       "      <th>0</th>\n",
       "      <td>250635</td>\n",
       "      <td>Comcast Cable Internet Speeds</td>\n",
       "      <td>22-04-15</td>\n",
       "      <td>22-Apr-15</td>\n",
       "      <td>3:53:50 PM</td>\n",
       "      <td>Customer Care Call</td>\n",
       "      <td>Abingdon</td>\n",
       "      <td>Maryland</td>\n",
       "      <td>21009</td>\n",
       "      <td>Closed</td>\n",
       "      <td>No</td>\n",
       "    </tr>\n",
       "    <tr>\n",
       "      <th>1</th>\n",
       "      <td>223441</td>\n",
       "      <td>Payment disappear - service got disconnected</td>\n",
       "      <td>04-08-15</td>\n",
       "      <td>04-Aug-15</td>\n",
       "      <td>10:22:56 AM</td>\n",
       "      <td>Internet</td>\n",
       "      <td>Acworth</td>\n",
       "      <td>Georgia</td>\n",
       "      <td>30102</td>\n",
       "      <td>Closed</td>\n",
       "      <td>No</td>\n",
       "    </tr>\n",
       "    <tr>\n",
       "      <th>2</th>\n",
       "      <td>242732</td>\n",
       "      <td>Speed and Service</td>\n",
       "      <td>18-04-15</td>\n",
       "      <td>18-Apr-15</td>\n",
       "      <td>9:55:47 AM</td>\n",
       "      <td>Internet</td>\n",
       "      <td>Acworth</td>\n",
       "      <td>Georgia</td>\n",
       "      <td>30101</td>\n",
       "      <td>Closed</td>\n",
       "      <td>Yes</td>\n",
       "    </tr>\n",
       "    <tr>\n",
       "      <th>3</th>\n",
       "      <td>277946</td>\n",
       "      <td>Comcast Imposed a New Usage Cap of 300GB that ...</td>\n",
       "      <td>05-07-15</td>\n",
       "      <td>05-Jul-15</td>\n",
       "      <td>11:59:35 AM</td>\n",
       "      <td>Internet</td>\n",
       "      <td>Acworth</td>\n",
       "      <td>Georgia</td>\n",
       "      <td>30101</td>\n",
       "      <td>Open</td>\n",
       "      <td>Yes</td>\n",
       "    </tr>\n",
       "    <tr>\n",
       "      <th>4</th>\n",
       "      <td>307175</td>\n",
       "      <td>Comcast not working and no service to boot</td>\n",
       "      <td>26-05-15</td>\n",
       "      <td>26-May-15</td>\n",
       "      <td>1:25:26 PM</td>\n",
       "      <td>Internet</td>\n",
       "      <td>Acworth</td>\n",
       "      <td>Georgia</td>\n",
       "      <td>30101</td>\n",
       "      <td>Solved</td>\n",
       "      <td>No</td>\n",
       "    </tr>\n",
       "    <tr>\n",
       "      <th>5</th>\n",
       "      <td>338519</td>\n",
       "      <td>ISP Charging for arbitrary data limits with ov...</td>\n",
       "      <td>06-12-15</td>\n",
       "      <td>06-Dec-15</td>\n",
       "      <td>9:59:40 PM</td>\n",
       "      <td>Internet</td>\n",
       "      <td>Acworth</td>\n",
       "      <td>Georgia</td>\n",
       "      <td>30101</td>\n",
       "      <td>Solved</td>\n",
       "      <td>No</td>\n",
       "    </tr>\n",
       "    <tr>\n",
       "      <th>6</th>\n",
       "      <td>361148</td>\n",
       "      <td>Throttling service and unreasonable data caps</td>\n",
       "      <td>24-06-15</td>\n",
       "      <td>24-Jun-15</td>\n",
       "      <td>10:13:55 AM</td>\n",
       "      <td>Customer Care Call</td>\n",
       "      <td>Acworth</td>\n",
       "      <td>Georgia</td>\n",
       "      <td>30101</td>\n",
       "      <td>Pending</td>\n",
       "      <td>No</td>\n",
       "    </tr>\n",
       "    <tr>\n",
       "      <th>7</th>\n",
       "      <td>359792</td>\n",
       "      <td>Comcast refuses to help troubleshoot and corre...</td>\n",
       "      <td>23-06-15</td>\n",
       "      <td>23-Jun-15</td>\n",
       "      <td>6:56:14 PM</td>\n",
       "      <td>Internet</td>\n",
       "      <td>Adrian</td>\n",
       "      <td>Michigan</td>\n",
       "      <td>49221</td>\n",
       "      <td>Solved</td>\n",
       "      <td>No</td>\n",
       "    </tr>\n",
       "    <tr>\n",
       "      <th>8</th>\n",
       "      <td>318072</td>\n",
       "      <td>Comcast extended outages</td>\n",
       "      <td>06-01-15</td>\n",
       "      <td>06-Jan-15</td>\n",
       "      <td>11:46:30 PM</td>\n",
       "      <td>Customer Care Call</td>\n",
       "      <td>Alameda</td>\n",
       "      <td>California</td>\n",
       "      <td>94502</td>\n",
       "      <td>Closed</td>\n",
       "      <td>No</td>\n",
       "    </tr>\n",
       "    <tr>\n",
       "      <th>9</th>\n",
       "      <td>371214</td>\n",
       "      <td>Comcast Raising Prices and Not Being Available...</td>\n",
       "      <td>28-06-15</td>\n",
       "      <td>28-Jun-15</td>\n",
       "      <td>6:46:31 PM</td>\n",
       "      <td>Customer Care Call</td>\n",
       "      <td>Alameda</td>\n",
       "      <td>California</td>\n",
       "      <td>94501</td>\n",
       "      <td>Open</td>\n",
       "      <td>Yes</td>\n",
       "    </tr>\n",
       "  </tbody>\n",
       "</table>\n",
       "</div>"
      ],
      "text/plain": [
       "  Ticket #                                 Customer Complaint      Date  \\\n",
       "0   250635                      Comcast Cable Internet Speeds  22-04-15   \n",
       "1   223441       Payment disappear - service got disconnected  04-08-15   \n",
       "2   242732                                  Speed and Service  18-04-15   \n",
       "3   277946  Comcast Imposed a New Usage Cap of 300GB that ...  05-07-15   \n",
       "4   307175         Comcast not working and no service to boot  26-05-15   \n",
       "5   338519  ISP Charging for arbitrary data limits with ov...  06-12-15   \n",
       "6   361148      Throttling service and unreasonable data caps  24-06-15   \n",
       "7   359792  Comcast refuses to help troubleshoot and corre...  23-06-15   \n",
       "8   318072                           Comcast extended outages  06-01-15   \n",
       "9   371214  Comcast Raising Prices and Not Being Available...  28-06-15   \n",
       "\n",
       "  Date_month_year         Time        Received Via      City       State  \\\n",
       "0       22-Apr-15   3:53:50 PM  Customer Care Call  Abingdon    Maryland   \n",
       "1       04-Aug-15  10:22:56 AM            Internet   Acworth     Georgia   \n",
       "2       18-Apr-15   9:55:47 AM            Internet   Acworth     Georgia   \n",
       "3       05-Jul-15  11:59:35 AM            Internet   Acworth     Georgia   \n",
       "4       26-May-15   1:25:26 PM            Internet   Acworth     Georgia   \n",
       "5       06-Dec-15   9:59:40 PM            Internet   Acworth     Georgia   \n",
       "6       24-Jun-15  10:13:55 AM  Customer Care Call   Acworth     Georgia   \n",
       "7       23-Jun-15   6:56:14 PM            Internet    Adrian    Michigan   \n",
       "8       06-Jan-15  11:46:30 PM  Customer Care Call   Alameda  California   \n",
       "9       28-Jun-15   6:46:31 PM  Customer Care Call   Alameda  California   \n",
       "\n",
       "   Zip code   Status Filing on Behalf of Someone  \n",
       "0     21009   Closed                          No  \n",
       "1     30102   Closed                          No  \n",
       "2     30101   Closed                         Yes  \n",
       "3     30101     Open                         Yes  \n",
       "4     30101   Solved                          No  \n",
       "5     30101   Solved                          No  \n",
       "6     30101  Pending                          No  \n",
       "7     49221   Solved                          No  \n",
       "8     94502   Closed                          No  \n",
       "9     94501     Open                         Yes  "
      ]
     },
     "execution_count": 108,
     "metadata": {},
     "output_type": "execute_result"
    }
   ],
   "source": [
    "data.head(10)"
   ]
  },
  {
   "cell_type": "code",
   "execution_count": 109,
   "metadata": {},
   "outputs": [
    {
     "data": {
      "text/plain": [
       "Ticket #                       object\n",
       "Customer Complaint             object\n",
       "Date                           object\n",
       "Date_month_year                object\n",
       "Time                           object\n",
       "Received Via                   object\n",
       "City                           object\n",
       "State                          object\n",
       "Zip code                        int64\n",
       "Status                         object\n",
       "Filing on Behalf of Someone    object\n",
       "dtype: object"
      ]
     },
     "execution_count": 109,
     "metadata": {},
     "output_type": "execute_result"
    }
   ],
   "source": [
    "data.dtypes"
   ]
  },
  {
   "cell_type": "markdown",
   "metadata": {},
   "source": [
    "### Trend chart for the number of complaints at monthly and daily granularity levels"
   ]
  },
  {
   "cell_type": "code",
   "execution_count": 110,
   "metadata": {},
   "outputs": [
    {
     "data": {
      "text/html": [
       "<div>\n",
       "<style scoped>\n",
       "    .dataframe tbody tr th:only-of-type {\n",
       "        vertical-align: middle;\n",
       "    }\n",
       "\n",
       "    .dataframe tbody tr th {\n",
       "        vertical-align: top;\n",
       "    }\n",
       "\n",
       "    .dataframe thead th {\n",
       "        text-align: right;\n",
       "    }\n",
       "</style>\n",
       "<table border=\"1\" class=\"dataframe\">\n",
       "  <thead>\n",
       "    <tr style=\"text-align: right;\">\n",
       "      <th></th>\n",
       "      <th>Ticket #</th>\n",
       "      <th>Customer Complaint</th>\n",
       "      <th>Date</th>\n",
       "      <th>Date_month_year</th>\n",
       "      <th>Time</th>\n",
       "      <th>Received Via</th>\n",
       "      <th>City</th>\n",
       "      <th>State</th>\n",
       "      <th>Zip code</th>\n",
       "      <th>Status</th>\n",
       "      <th>Filing on Behalf of Someone</th>\n",
       "    </tr>\n",
       "  </thead>\n",
       "  <tbody>\n",
       "    <tr>\n",
       "      <th>0</th>\n",
       "      <td>250635</td>\n",
       "      <td>Comcast Cable Internet Speeds</td>\n",
       "      <td>22-04-15</td>\n",
       "      <td>2015-04-22</td>\n",
       "      <td>3:53:50 PM</td>\n",
       "      <td>Customer Care Call</td>\n",
       "      <td>Abingdon</td>\n",
       "      <td>Maryland</td>\n",
       "      <td>21009</td>\n",
       "      <td>Closed</td>\n",
       "      <td>No</td>\n",
       "    </tr>\n",
       "    <tr>\n",
       "      <th>1</th>\n",
       "      <td>223441</td>\n",
       "      <td>Payment disappear - service got disconnected</td>\n",
       "      <td>04-08-15</td>\n",
       "      <td>2015-08-04</td>\n",
       "      <td>10:22:56 AM</td>\n",
       "      <td>Internet</td>\n",
       "      <td>Acworth</td>\n",
       "      <td>Georgia</td>\n",
       "      <td>30102</td>\n",
       "      <td>Closed</td>\n",
       "      <td>No</td>\n",
       "    </tr>\n",
       "    <tr>\n",
       "      <th>2</th>\n",
       "      <td>242732</td>\n",
       "      <td>Speed and Service</td>\n",
       "      <td>18-04-15</td>\n",
       "      <td>2015-04-18</td>\n",
       "      <td>9:55:47 AM</td>\n",
       "      <td>Internet</td>\n",
       "      <td>Acworth</td>\n",
       "      <td>Georgia</td>\n",
       "      <td>30101</td>\n",
       "      <td>Closed</td>\n",
       "      <td>Yes</td>\n",
       "    </tr>\n",
       "    <tr>\n",
       "      <th>3</th>\n",
       "      <td>277946</td>\n",
       "      <td>Comcast Imposed a New Usage Cap of 300GB that ...</td>\n",
       "      <td>05-07-15</td>\n",
       "      <td>2015-07-05</td>\n",
       "      <td>11:59:35 AM</td>\n",
       "      <td>Internet</td>\n",
       "      <td>Acworth</td>\n",
       "      <td>Georgia</td>\n",
       "      <td>30101</td>\n",
       "      <td>Open</td>\n",
       "      <td>Yes</td>\n",
       "    </tr>\n",
       "    <tr>\n",
       "      <th>4</th>\n",
       "      <td>307175</td>\n",
       "      <td>Comcast not working and no service to boot</td>\n",
       "      <td>26-05-15</td>\n",
       "      <td>2015-05-26</td>\n",
       "      <td>1:25:26 PM</td>\n",
       "      <td>Internet</td>\n",
       "      <td>Acworth</td>\n",
       "      <td>Georgia</td>\n",
       "      <td>30101</td>\n",
       "      <td>Solved</td>\n",
       "      <td>No</td>\n",
       "    </tr>\n",
       "  </tbody>\n",
       "</table>\n",
       "</div>"
      ],
      "text/plain": [
       "  Ticket #                                 Customer Complaint      Date  \\\n",
       "0   250635                      Comcast Cable Internet Speeds  22-04-15   \n",
       "1   223441       Payment disappear - service got disconnected  04-08-15   \n",
       "2   242732                                  Speed and Service  18-04-15   \n",
       "3   277946  Comcast Imposed a New Usage Cap of 300GB that ...  05-07-15   \n",
       "4   307175         Comcast not working and no service to boot  26-05-15   \n",
       "\n",
       "  Date_month_year         Time        Received Via      City     State  \\\n",
       "0      2015-04-22   3:53:50 PM  Customer Care Call  Abingdon  Maryland   \n",
       "1      2015-08-04  10:22:56 AM            Internet   Acworth   Georgia   \n",
       "2      2015-04-18   9:55:47 AM            Internet   Acworth   Georgia   \n",
       "3      2015-07-05  11:59:35 AM            Internet   Acworth   Georgia   \n",
       "4      2015-05-26   1:25:26 PM            Internet   Acworth   Georgia   \n",
       "\n",
       "   Zip code  Status Filing on Behalf of Someone  \n",
       "0     21009  Closed                          No  \n",
       "1     30102  Closed                          No  \n",
       "2     30101  Closed                         Yes  \n",
       "3     30101    Open                         Yes  \n",
       "4     30101  Solved                          No  "
      ]
     },
     "execution_count": 110,
     "metadata": {},
     "output_type": "execute_result"
    }
   ],
   "source": [
    "#Converting the data type of the Variable \"Date_month_year\"\n",
    "data['Date_month_year'] = pd.to_datetime(data['Date_month_year'])\n",
    "data.head()"
   ]
  },
  {
   "cell_type": "code",
   "execution_count": 164,
   "metadata": {},
   "outputs": [
    {
     "data": {
      "text/html": [
       "<div>\n",
       "<style scoped>\n",
       "    .dataframe tbody tr th:only-of-type {\n",
       "        vertical-align: middle;\n",
       "    }\n",
       "\n",
       "    .dataframe tbody tr th {\n",
       "        vertical-align: top;\n",
       "    }\n",
       "\n",
       "    .dataframe thead th {\n",
       "        text-align: right;\n",
       "    }\n",
       "</style>\n",
       "<table border=\"1\" class=\"dataframe\">\n",
       "  <thead>\n",
       "    <tr style=\"text-align: right;\">\n",
       "      <th></th>\n",
       "      <th>Ticket #</th>\n",
       "      <th>Customer Complaint</th>\n",
       "      <th>Date</th>\n",
       "      <th>Date_month_year</th>\n",
       "      <th>Time</th>\n",
       "      <th>Received Via</th>\n",
       "      <th>City</th>\n",
       "      <th>State</th>\n",
       "      <th>Zip code</th>\n",
       "      <th>Status</th>\n",
       "      <th>Filing on Behalf of Someone</th>\n",
       "      <th>day</th>\n",
       "      <th>month</th>\n",
       "      <th>year</th>\n",
       "      <th>date_index</th>\n",
       "    </tr>\n",
       "  </thead>\n",
       "  <tbody>\n",
       "    <tr>\n",
       "      <th>0</th>\n",
       "      <td>250635</td>\n",
       "      <td>Comcast Cable Internet Speeds</td>\n",
       "      <td>22-04-15</td>\n",
       "      <td>2015-04-22</td>\n",
       "      <td>3:53:50 PM</td>\n",
       "      <td>Customer Care Call</td>\n",
       "      <td>Abingdon</td>\n",
       "      <td>Maryland</td>\n",
       "      <td>21009</td>\n",
       "      <td>Closed</td>\n",
       "      <td>No</td>\n",
       "      <td>22</td>\n",
       "      <td>04</td>\n",
       "      <td>15</td>\n",
       "      <td>2015-04-22 15:53:50</td>\n",
       "    </tr>\n",
       "    <tr>\n",
       "      <th>1</th>\n",
       "      <td>223441</td>\n",
       "      <td>Payment Disappear - Service Got Disconnected</td>\n",
       "      <td>04-08-15</td>\n",
       "      <td>2015-08-04</td>\n",
       "      <td>10:22:56 AM</td>\n",
       "      <td>Internet</td>\n",
       "      <td>Acworth</td>\n",
       "      <td>Georgia</td>\n",
       "      <td>30102</td>\n",
       "      <td>Closed</td>\n",
       "      <td>No</td>\n",
       "      <td>04</td>\n",
       "      <td>08</td>\n",
       "      <td>15</td>\n",
       "      <td>2015-04-08 10:22:56</td>\n",
       "    </tr>\n",
       "    <tr>\n",
       "      <th>2</th>\n",
       "      <td>242732</td>\n",
       "      <td>Speed And Service</td>\n",
       "      <td>18-04-15</td>\n",
       "      <td>2015-04-18</td>\n",
       "      <td>9:55:47 AM</td>\n",
       "      <td>Internet</td>\n",
       "      <td>Acworth</td>\n",
       "      <td>Georgia</td>\n",
       "      <td>30101</td>\n",
       "      <td>Closed</td>\n",
       "      <td>Yes</td>\n",
       "      <td>18</td>\n",
       "      <td>04</td>\n",
       "      <td>15</td>\n",
       "      <td>2015-04-18 09:55:47</td>\n",
       "    </tr>\n",
       "    <tr>\n",
       "      <th>3</th>\n",
       "      <td>277946</td>\n",
       "      <td>Comcast Imposed A New Usage Cap Of 300Gb That ...</td>\n",
       "      <td>05-07-15</td>\n",
       "      <td>2015-07-05</td>\n",
       "      <td>11:59:35 AM</td>\n",
       "      <td>Internet</td>\n",
       "      <td>Acworth</td>\n",
       "      <td>Georgia</td>\n",
       "      <td>30101</td>\n",
       "      <td>Open</td>\n",
       "      <td>Yes</td>\n",
       "      <td>05</td>\n",
       "      <td>07</td>\n",
       "      <td>15</td>\n",
       "      <td>2015-05-07 11:59:35</td>\n",
       "    </tr>\n",
       "    <tr>\n",
       "      <th>4</th>\n",
       "      <td>307175</td>\n",
       "      <td>Comcast Not Working And No Service To Boot</td>\n",
       "      <td>26-05-15</td>\n",
       "      <td>2015-05-26</td>\n",
       "      <td>1:25:26 PM</td>\n",
       "      <td>Internet</td>\n",
       "      <td>Acworth</td>\n",
       "      <td>Georgia</td>\n",
       "      <td>30101</td>\n",
       "      <td>Solved</td>\n",
       "      <td>No</td>\n",
       "      <td>26</td>\n",
       "      <td>05</td>\n",
       "      <td>15</td>\n",
       "      <td>2015-05-26 13:25:26</td>\n",
       "    </tr>\n",
       "  </tbody>\n",
       "</table>\n",
       "</div>"
      ],
      "text/plain": [
       "  Ticket #                                 Customer Complaint      Date  \\\n",
       "0   250635                      Comcast Cable Internet Speeds  22-04-15   \n",
       "1   223441       Payment Disappear - Service Got Disconnected  04-08-15   \n",
       "2   242732                                  Speed And Service  18-04-15   \n",
       "3   277946  Comcast Imposed A New Usage Cap Of 300Gb That ...  05-07-15   \n",
       "4   307175         Comcast Not Working And No Service To Boot  26-05-15   \n",
       "\n",
       "  Date_month_year         Time        Received Via      City     State  \\\n",
       "0      2015-04-22   3:53:50 PM  Customer Care Call  Abingdon  Maryland   \n",
       "1      2015-08-04  10:22:56 AM            Internet   Acworth   Georgia   \n",
       "2      2015-04-18   9:55:47 AM            Internet   Acworth   Georgia   \n",
       "3      2015-07-05  11:59:35 AM            Internet   Acworth   Georgia   \n",
       "4      2015-05-26   1:25:26 PM            Internet   Acworth   Georgia   \n",
       "\n",
       "   Zip code  Status Filing on Behalf of Someone day month year  \\\n",
       "0     21009  Closed                          No  22    04   15   \n",
       "1     30102  Closed                          No  04    08   15   \n",
       "2     30101  Closed                         Yes  18    04   15   \n",
       "3     30101    Open                         Yes  05    07   15   \n",
       "4     30101  Solved                          No  26    05   15   \n",
       "\n",
       "           date_index  \n",
       "0 2015-04-22 15:53:50  \n",
       "1 2015-04-08 10:22:56  \n",
       "2 2015-04-18 09:55:47  \n",
       "3 2015-05-07 11:59:35  \n",
       "4 2015-05-26 13:25:26  "
      ]
     },
     "execution_count": 164,
     "metadata": {},
     "output_type": "execute_result"
    }
   ],
   "source": [
    "# Creating a \"date_index\"\n",
    "data['date_index'] = data[\"Date\"] + \" \" + data[\"Time\"]\n",
    "data['date_index'] = pd.to_datetime(data['date_index'])\n",
    "data.head()"
   ]
  },
  {
   "cell_type": "code",
   "execution_count": 165,
   "metadata": {},
   "outputs": [
    {
     "data": {
      "text/plain": [
       "Ticket #                               object\n",
       "Customer Complaint                     object\n",
       "Date                                   object\n",
       "Date_month_year                datetime64[ns]\n",
       "Time                                   object\n",
       "Received Via                           object\n",
       "City                                   object\n",
       "State                                  object\n",
       "Zip code                                int64\n",
       "Status                                 object\n",
       "Filing on Behalf of Someone            object\n",
       "day                                    object\n",
       "month                                  object\n",
       "year                                   object\n",
       "date_index                     datetime64[ns]\n",
       "dtype: object"
      ]
     },
     "execution_count": 165,
     "metadata": {},
     "output_type": "execute_result"
    }
   ],
   "source": [
    "data.dtypes"
   ]
  },
  {
   "cell_type": "markdown",
   "metadata": {},
   "source": [
    "#### Date Wise Plot"
   ]
  },
  {
   "cell_type": "code",
   "execution_count": 166,
   "metadata": {
    "scrolled": true
   },
   "outputs": [
    {
     "data": {
      "text/plain": [
       "2015-06-24    218\n",
       "2015-06-23    190\n",
       "2015-06-25     98\n",
       "2015-06-26     55\n",
       "2015-06-30     53\n",
       "             ... \n",
       "2015-05-17      7\n",
       "2015-12-05      7\n",
       "2015-05-04      6\n",
       "2015-11-04      5\n",
       "2015-03-05      5\n",
       "Name: Date_month_year, Length: 91, dtype: int64"
      ]
     },
     "execution_count": 166,
     "metadata": {},
     "output_type": "execute_result"
    }
   ],
   "source": [
    "data[\"Date_month_year\"].value_counts()"
   ]
  },
  {
   "cell_type": "code",
   "execution_count": 167,
   "metadata": {
    "scrolled": true
   },
   "outputs": [
    {
     "data": {
      "text/plain": [
       "Text(0, 0.5, 'No of Complaints')"
      ]
     },
     "execution_count": 167,
     "metadata": {},
     "output_type": "execute_result"
    },
    {
     "data": {
      "image/png": "[encoded data removed]",
      "text/plain": [
       "<Figure size 432x288 with 1 Axes>"
      ]
     },
     "metadata": {
      "needs_background": "light"
     },
     "output_type": "display_data"
    }
   ],
   "source": [
    "data[\"Date_month_year\"].value_counts().plot()\n",
    "plt.xlabel(\"Dates\")\n",
    "plt.ylabel(\"No of Complaints\")"
   ]
  },
  {
   "cell_type": "markdown",
   "metadata": {},
   "source": [
    "#### Month Wise Plot"
   ]
  },
  {
   "cell_type": "code",
   "execution_count": 172,
   "metadata": {},
   "outputs": [
    {
     "data": {
      "text/plain": [
       "June     1280\n",
       "April     545\n",
       "May       399\n",
       "Name: date_index, dtype: int64"
      ]
     },
     "execution_count": 172,
     "metadata": {},
     "output_type": "execute_result"
    }
   ],
   "source": [
    "data[\"date_index\"].dt.month_name().value_counts()"
   ]
  },
  {
   "cell_type": "code",
   "execution_count": 173,
   "metadata": {},
   "outputs": [
    {
     "data": {
      "text/plain": [
       "Text(0, 0.5, 'No of Complaints')"
      ]
     },
     "execution_count": 173,
     "metadata": {},
     "output_type": "execute_result"
    },
    {
     "data": {
      "image/png": "[encoded data removed]",
      "text/plain": [
       "<Figure size 432x288 with 1 Axes>"
      ]
     },
     "metadata": {
      "needs_background": "light"
     },
     "output_type": "display_data"
    }
   ],
   "source": [
    "data[\"date_index\"].dt.month_name().value_counts().plot()\n",
    "plt.xlabel(\"Month\")\n",
    "plt.ylabel(\"No of Complaints\")"
   ]
  },
  {
   "cell_type": "markdown",
   "metadata": {},
   "source": [
    "### Provide a table with the frequency of complaint types"
   ]
  },
  {
   "cell_type": "code",
   "execution_count": 160,
   "metadata": {},
   "outputs": [
    {
     "data": {
      "text/plain": [
       "Comcast                                                            102\n",
       "Comcast Data Cap                                                    30\n",
       "Comcast Internet                                                    29\n",
       "Comcast Data Caps                                                   21\n",
       "Comcast Billing                                                     18\n",
       "                                                                  ... \n",
       "Xfinity: Bogus Modem Charges                                         1\n",
       "Comcast Monopoly Hurting My Business                                 1\n",
       "Another Fraudulenct Collection Claim From Comcast                    1\n",
       "Comcast Over Charge                                                  1\n",
       "Customer Service Representative Lied About Rates And Promotions      1\n",
       "Name: Customer Complaint, Length: 1740, dtype: int64"
      ]
     },
     "execution_count": 160,
     "metadata": {},
     "output_type": "execute_result"
    }
   ],
   "source": [
    "data['Customer Complaint'].value_counts()"
   ]
  },
  {
   "cell_type": "markdown",
   "metadata": {},
   "source": [
    "### Creating a new categorical variable with value as Open and Closed"
   ]
  },
  {
   "cell_type": "code",
   "execution_count": 175,
   "metadata": {},
   "outputs": [
    {
     "data": {
      "text/html": [
       "<div>\n",
       "<style scoped>\n",
       "    .dataframe tbody tr th:only-of-type {\n",
       "        vertical-align: middle;\n",
       "    }\n",
       "\n",
       "    .dataframe tbody tr th {\n",
       "        vertical-align: top;\n",
       "    }\n",
       "\n",
       "    .dataframe thead th {\n",
       "        text-align: right;\n",
       "    }\n",
       "</style>\n",
       "<table border=\"1\" class=\"dataframe\">\n",
       "  <thead>\n",
       "    <tr style=\"text-align: right;\">\n",
       "      <th></th>\n",
       "      <th>Ticket #</th>\n",
       "      <th>Customer Complaint</th>\n",
       "      <th>Date</th>\n",
       "      <th>Date_month_year</th>\n",
       "      <th>Time</th>\n",
       "      <th>Received Via</th>\n",
       "      <th>City</th>\n",
       "      <th>State</th>\n",
       "      <th>Zip code</th>\n",
       "      <th>Status</th>\n",
       "      <th>Filing on Behalf of Someone</th>\n",
       "      <th>day</th>\n",
       "      <th>month</th>\n",
       "      <th>year</th>\n",
       "      <th>date_index</th>\n",
       "      <th>newStatus</th>\n",
       "    </tr>\n",
       "  </thead>\n",
       "  <tbody>\n",
       "    <tr>\n",
       "      <th>0</th>\n",
       "      <td>250635</td>\n",
       "      <td>Comcast Cable Internet Speeds</td>\n",
       "      <td>22-04-15</td>\n",
       "      <td>2015-04-22</td>\n",
       "      <td>3:53:50 PM</td>\n",
       "      <td>Customer Care Call</td>\n",
       "      <td>Abingdon</td>\n",
       "      <td>Maryland</td>\n",
       "      <td>21009</td>\n",
       "      <td>Closed</td>\n",
       "      <td>No</td>\n",
       "      <td>22</td>\n",
       "      <td>04</td>\n",
       "      <td>15</td>\n",
       "      <td>2015-04-22 15:53:50</td>\n",
       "      <td>Closed</td>\n",
       "    </tr>\n",
       "    <tr>\n",
       "      <th>1</th>\n",
       "      <td>223441</td>\n",
       "      <td>Payment Disappear - Service Got Disconnected</td>\n",
       "      <td>04-08-15</td>\n",
       "      <td>2015-08-04</td>\n",
       "      <td>10:22:56 AM</td>\n",
       "      <td>Internet</td>\n",
       "      <td>Acworth</td>\n",
       "      <td>Georgia</td>\n",
       "      <td>30102</td>\n",
       "      <td>Closed</td>\n",
       "      <td>No</td>\n",
       "      <td>04</td>\n",
       "      <td>08</td>\n",
       "      <td>15</td>\n",
       "      <td>2015-04-08 10:22:56</td>\n",
       "      <td>Closed</td>\n",
       "    </tr>\n",
       "    <tr>\n",
       "      <th>2</th>\n",
       "      <td>242732</td>\n",
       "      <td>Speed And Service</td>\n",
       "      <td>18-04-15</td>\n",
       "      <td>2015-04-18</td>\n",
       "      <td>9:55:47 AM</td>\n",
       "      <td>Internet</td>\n",
       "      <td>Acworth</td>\n",
       "      <td>Georgia</td>\n",
       "      <td>30101</td>\n",
       "      <td>Closed</td>\n",
       "      <td>Yes</td>\n",
       "      <td>18</td>\n",
       "      <td>04</td>\n",
       "      <td>15</td>\n",
       "      <td>2015-04-18 09:55:47</td>\n",
       "      <td>Closed</td>\n",
       "    </tr>\n",
       "    <tr>\n",
       "      <th>3</th>\n",
       "      <td>277946</td>\n",
       "      <td>Comcast Imposed A New Usage Cap Of 300Gb That ...</td>\n",
       "      <td>05-07-15</td>\n",
       "      <td>2015-07-05</td>\n",
       "      <td>11:59:35 AM</td>\n",
       "      <td>Internet</td>\n",
       "      <td>Acworth</td>\n",
       "      <td>Georgia</td>\n",
       "      <td>30101</td>\n",
       "      <td>Open</td>\n",
       "      <td>Yes</td>\n",
       "      <td>05</td>\n",
       "      <td>07</td>\n",
       "      <td>15</td>\n",
       "      <td>2015-05-07 11:59:35</td>\n",
       "      <td>Open</td>\n",
       "    </tr>\n",
       "    <tr>\n",
       "      <th>4</th>\n",
       "      <td>307175</td>\n",
       "      <td>Comcast Not Working And No Service To Boot</td>\n",
       "      <td>26-05-15</td>\n",
       "      <td>2015-05-26</td>\n",
       "      <td>1:25:26 PM</td>\n",
       "      <td>Internet</td>\n",
       "      <td>Acworth</td>\n",
       "      <td>Georgia</td>\n",
       "      <td>30101</td>\n",
       "      <td>Solved</td>\n",
       "      <td>No</td>\n",
       "      <td>26</td>\n",
       "      <td>05</td>\n",
       "      <td>15</td>\n",
       "      <td>2015-05-26 13:25:26</td>\n",
       "      <td>Closed</td>\n",
       "    </tr>\n",
       "  </tbody>\n",
       "</table>\n",
       "</div>"
      ],
      "text/plain": [
       "  Ticket #                                 Customer Complaint      Date  \\\n",
       "0   250635                      Comcast Cable Internet Speeds  22-04-15   \n",
       "1   223441       Payment Disappear - Service Got Disconnected  04-08-15   \n",
       "2   242732                                  Speed And Service  18-04-15   \n",
       "3   277946  Comcast Imposed A New Usage Cap Of 300Gb That ...  05-07-15   \n",
       "4   307175         Comcast Not Working And No Service To Boot  26-05-15   \n",
       "\n",
       "  Date_month_year         Time        Received Via      City     State  \\\n",
       "0      2015-04-22   3:53:50 PM  Customer Care Call  Abingdon  Maryland   \n",
       "1      2015-08-04  10:22:56 AM            Internet   Acworth   Georgia   \n",
       "2      2015-04-18   9:55:47 AM            Internet   Acworth   Georgia   \n",
       "3      2015-07-05  11:59:35 AM            Internet   Acworth   Georgia   \n",
       "4      2015-05-26   1:25:26 PM            Internet   Acworth   Georgia   \n",
       "\n",
       "   Zip code  Status Filing on Behalf of Someone day month year  \\\n",
       "0     21009  Closed                          No  22    04   15   \n",
       "1     30102  Closed                          No  04    08   15   \n",
       "2     30101  Closed                         Yes  18    04   15   \n",
       "3     30101    Open                         Yes  05    07   15   \n",
       "4     30101  Solved                          No  26    05   15   \n",
       "\n",
       "           date_index newStatus  \n",
       "0 2015-04-22 15:53:50    Closed  \n",
       "1 2015-04-08 10:22:56    Closed  \n",
       "2 2015-04-18 09:55:47    Closed  \n",
       "3 2015-05-07 11:59:35      Open  \n",
       "4 2015-05-26 13:25:26    Closed  "
      ]
     },
     "execution_count": 175,
     "metadata": {},
     "output_type": "execute_result"
    }
   ],
   "source": [
    "data['newStatus'] = [\"Open\" if Status==\"Open\" or Status==\"Pending\" else \"Closed\" for Status in data[\"Status\"]]\n",
    "data.head()"
   ]
  },
  {
   "cell_type": "code",
   "execution_count": 176,
   "metadata": {},
   "outputs": [
    {
     "data": {
      "text/plain": [
       "Closed    1707\n",
       "Open       517\n",
       "Name: newStatus, dtype: int64"
      ]
     },
     "execution_count": 176,
     "metadata": {},
     "output_type": "execute_result"
    }
   ],
   "source": [
    "data['newStatus'].value_counts()"
   ]
  },
  {
   "cell_type": "markdown",
   "metadata": {},
   "source": [
    "### State wise status of complaints in a stacked bar chart"
   ]
  },
  {
   "cell_type": "code",
   "execution_count": 188,
   "metadata": {},
   "outputs": [
    {
     "data": {
      "text/html": [
       "<div>\n",
       "<style scoped>\n",
       "    .dataframe tbody tr th:only-of-type {\n",
       "        vertical-align: middle;\n",
       "    }\n",
       "\n",
       "    .dataframe tbody tr th {\n",
       "        vertical-align: top;\n",
       "    }\n",
       "\n",
       "    .dataframe thead th {\n",
       "        text-align: right;\n",
       "    }\n",
       "</style>\n",
       "<table border=\"1\" class=\"dataframe\">\n",
       "  <thead>\n",
       "    <tr style=\"text-align: right;\">\n",
       "      <th>newStatus</th>\n",
       "      <th>Closed</th>\n",
       "      <th>Open</th>\n",
       "    </tr>\n",
       "    <tr>\n",
       "      <th>State</th>\n",
       "      <th></th>\n",
       "      <th></th>\n",
       "    </tr>\n",
       "  </thead>\n",
       "  <tbody>\n",
       "    <tr>\n",
       "      <th>Alabama</th>\n",
       "      <td>17.0</td>\n",
       "      <td>9.0</td>\n",
       "    </tr>\n",
       "    <tr>\n",
       "      <th>Arizona</th>\n",
       "      <td>14.0</td>\n",
       "      <td>6.0</td>\n",
       "    </tr>\n",
       "    <tr>\n",
       "      <th>California</th>\n",
       "      <td>159.0</td>\n",
       "      <td>61.0</td>\n",
       "    </tr>\n",
       "    <tr>\n",
       "      <th>Colorado</th>\n",
       "      <td>58.0</td>\n",
       "      <td>22.0</td>\n",
       "    </tr>\n",
       "    <tr>\n",
       "      <th>Connecticut</th>\n",
       "      <td>9.0</td>\n",
       "      <td>3.0</td>\n",
       "    </tr>\n",
       "    <tr>\n",
       "      <th>Delaware</th>\n",
       "      <td>8.0</td>\n",
       "      <td>4.0</td>\n",
       "    </tr>\n",
       "    <tr>\n",
       "      <th>District Of Columbia</th>\n",
       "      <td>14.0</td>\n",
       "      <td>2.0</td>\n",
       "    </tr>\n",
       "    <tr>\n",
       "      <th>Florida</th>\n",
       "      <td>201.0</td>\n",
       "      <td>39.0</td>\n",
       "    </tr>\n",
       "    <tr>\n",
       "      <th>Georgia</th>\n",
       "      <td>208.0</td>\n",
       "      <td>80.0</td>\n",
       "    </tr>\n",
       "    <tr>\n",
       "      <th>Illinois</th>\n",
       "      <td>135.0</td>\n",
       "      <td>29.0</td>\n",
       "    </tr>\n",
       "    <tr>\n",
       "      <th>Indiana</th>\n",
       "      <td>50.0</td>\n",
       "      <td>9.0</td>\n",
       "    </tr>\n",
       "    <tr>\n",
       "      <th>Kansas</th>\n",
       "      <td>1.0</td>\n",
       "      <td>1.0</td>\n",
       "    </tr>\n",
       "    <tr>\n",
       "      <th>Kentucky</th>\n",
       "      <td>4.0</td>\n",
       "      <td>3.0</td>\n",
       "    </tr>\n",
       "    <tr>\n",
       "      <th>Louisiana</th>\n",
       "      <td>12.0</td>\n",
       "      <td>1.0</td>\n",
       "    </tr>\n",
       "    <tr>\n",
       "      <th>Maine</th>\n",
       "      <td>3.0</td>\n",
       "      <td>2.0</td>\n",
       "    </tr>\n",
       "    <tr>\n",
       "      <th>Maryland</th>\n",
       "      <td>63.0</td>\n",
       "      <td>15.0</td>\n",
       "    </tr>\n",
       "    <tr>\n",
       "      <th>Massachusetts</th>\n",
       "      <td>50.0</td>\n",
       "      <td>11.0</td>\n",
       "    </tr>\n",
       "    <tr>\n",
       "      <th>Michigan</th>\n",
       "      <td>92.0</td>\n",
       "      <td>23.0</td>\n",
       "    </tr>\n",
       "    <tr>\n",
       "      <th>Minnesota</th>\n",
       "      <td>29.0</td>\n",
       "      <td>4.0</td>\n",
       "    </tr>\n",
       "    <tr>\n",
       "      <th>Mississippi</th>\n",
       "      <td>23.0</td>\n",
       "      <td>16.0</td>\n",
       "    </tr>\n",
       "    <tr>\n",
       "      <th>Missouri</th>\n",
       "      <td>3.0</td>\n",
       "      <td>1.0</td>\n",
       "    </tr>\n",
       "    <tr>\n",
       "      <th>New Hampshire</th>\n",
       "      <td>8.0</td>\n",
       "      <td>4.0</td>\n",
       "    </tr>\n",
       "    <tr>\n",
       "      <th>New Jersey</th>\n",
       "      <td>56.0</td>\n",
       "      <td>19.0</td>\n",
       "    </tr>\n",
       "    <tr>\n",
       "      <th>New Mexico</th>\n",
       "      <td>11.0</td>\n",
       "      <td>4.0</td>\n",
       "    </tr>\n",
       "    <tr>\n",
       "      <th>Oregon</th>\n",
       "      <td>36.0</td>\n",
       "      <td>13.0</td>\n",
       "    </tr>\n",
       "    <tr>\n",
       "      <th>Pennsylvania</th>\n",
       "      <td>110.0</td>\n",
       "      <td>20.0</td>\n",
       "    </tr>\n",
       "    <tr>\n",
       "      <th>South Carolina</th>\n",
       "      <td>15.0</td>\n",
       "      <td>3.0</td>\n",
       "    </tr>\n",
       "    <tr>\n",
       "      <th>Tennessee</th>\n",
       "      <td>96.0</td>\n",
       "      <td>47.0</td>\n",
       "    </tr>\n",
       "    <tr>\n",
       "      <th>Texas</th>\n",
       "      <td>49.0</td>\n",
       "      <td>22.0</td>\n",
       "    </tr>\n",
       "    <tr>\n",
       "      <th>Utah</th>\n",
       "      <td>16.0</td>\n",
       "      <td>6.0</td>\n",
       "    </tr>\n",
       "    <tr>\n",
       "      <th>Vermont</th>\n",
       "      <td>2.0</td>\n",
       "      <td>1.0</td>\n",
       "    </tr>\n",
       "    <tr>\n",
       "      <th>Virginia</th>\n",
       "      <td>49.0</td>\n",
       "      <td>11.0</td>\n",
       "    </tr>\n",
       "    <tr>\n",
       "      <th>Washington</th>\n",
       "      <td>75.0</td>\n",
       "      <td>23.0</td>\n",
       "    </tr>\n",
       "    <tr>\n",
       "      <th>West Virginia</th>\n",
       "      <td>8.0</td>\n",
       "      <td>3.0</td>\n",
       "    </tr>\n",
       "  </tbody>\n",
       "</table>\n",
       "</div>"
      ],
      "text/plain": [
       "newStatus             Closed  Open\n",
       "State                             \n",
       "Alabama                 17.0   9.0\n",
       "Arizona                 14.0   6.0\n",
       "California             159.0  61.0\n",
       "Colorado                58.0  22.0\n",
       "Connecticut              9.0   3.0\n",
       "Delaware                 8.0   4.0\n",
       "District Of Columbia    14.0   2.0\n",
       "Florida                201.0  39.0\n",
       "Georgia                208.0  80.0\n",
       "Illinois               135.0  29.0\n",
       "Indiana                 50.0   9.0\n",
       "Kansas                   1.0   1.0\n",
       "Kentucky                 4.0   3.0\n",
       "Louisiana               12.0   1.0\n",
       "Maine                    3.0   2.0\n",
       "Maryland                63.0  15.0\n",
       "Massachusetts           50.0  11.0\n",
       "Michigan                92.0  23.0\n",
       "Minnesota               29.0   4.0\n",
       "Mississippi             23.0  16.0\n",
       "Missouri                 3.0   1.0\n",
       "New Hampshire            8.0   4.0\n",
       "New Jersey              56.0  19.0\n",
       "New Mexico              11.0   4.0\n",
       "Oregon                  36.0  13.0\n",
       "Pennsylvania           110.0  20.0\n",
       "South Carolina          15.0   3.0\n",
       "Tennessee               96.0  47.0\n",
       "Texas                   49.0  22.0\n",
       "Utah                    16.0   6.0\n",
       "Vermont                  2.0   1.0\n",
       "Virginia                49.0  11.0\n",
       "Washington              75.0  23.0\n",
       "West Virginia            8.0   3.0"
      ]
     },
     "execution_count": 188,
     "metadata": {},
     "output_type": "execute_result"
    }
   ],
   "source": [
    "dataGrp = data.groupby([\"State\",\"newStatus\"]).size().unstack().dropna() #Grouping data by \"State\"\n",
    "dataGrp"
   ]
  },
  {
   "cell_type": "code",
   "execution_count": 189,
   "metadata": {},
   "outputs": [
    {
     "data": {
      "text/plain": [
       "<matplotlib.axes._subplots.AxesSubplot at 0x2099e881dc8>"
      ]
     },
     "execution_count": 189,
     "metadata": {},
     "output_type": "execute_result"
    },
    {
     "data": {
      "image/png": "[encoded data removed]",
      "text/plain": [
       "<Figure size 2160x3600 with 1 Axes>"
      ]
     },
     "metadata": {
      "needs_background": "light"
     },
     "output_type": "display_data"
    }
   ],
   "source": [
    "dataGrp.plot(kind=\"barh\", figsize=(30,50), stacked=True)"
   ]
  },
  {
   "cell_type": "markdown",
   "metadata": {},
   "source": [
    "### State wth the maximum complaints"
   ]
  },
  {
   "cell_type": "code",
   "execution_count": 190,
   "metadata": {},
   "outputs": [
    {
     "data": {
      "text/plain": [
       "Georgia                 288\n",
       "Florida                 240\n",
       "California              220\n",
       "Illinois                164\n",
       "Tennessee               143\n",
       "Pennsylvania            130\n",
       "Michigan                115\n",
       "Washington               98\n",
       "Colorado                 80\n",
       "Maryland                 78\n",
       "New Jersey               75\n",
       "Texas                    71\n",
       "Massachusetts            61\n",
       "Virginia                 60\n",
       "Indiana                  59\n",
       "Oregon                   49\n",
       "Mississippi              39\n",
       "Minnesota                33\n",
       "Alabama                  26\n",
       "Utah                     22\n",
       "Arizona                  20\n",
       "South Carolina           18\n",
       "District Of Columbia     16\n",
       "New Mexico               15\n",
       "Louisiana                13\n",
       "New Hampshire            12\n",
       "Delaware                 12\n",
       "Connecticut              12\n",
       "West Virginia            11\n",
       "Kentucky                  7\n",
       "Arkansas                  6\n",
       "New York                  6\n",
       "Maine                     5\n",
       "Missouri                  4\n",
       "Ohio                      3\n",
       "North Carolina            3\n",
       "Vermont                   3\n",
       "Kansas                    2\n",
       "Iowa                      1\n",
       "Rhode Island              1\n",
       "District of Columbia      1\n",
       "Montana                   1\n",
       "Nevada                    1\n",
       "Name: State, dtype: int64"
      ]
     },
     "execution_count": 190,
     "metadata": {},
     "output_type": "execute_result"
    }
   ],
   "source": [
    "data['State'].value_counts() # Gerogia has maximum number of Complaints"
   ]
  },
  {
   "cell_type": "code",
   "execution_count": 191,
   "metadata": {},
   "outputs": [
    {
     "data": {
      "text/plain": [
       "newStatus\n",
       "Closed    208.0\n",
       "Open       80.0\n",
       "dtype: float64"
      ]
     },
     "execution_count": 191,
     "metadata": {},
     "output_type": "execute_result"
    }
   ],
   "source": [
    "dataGrp1 = data.groupby([\"State\",\"newStatus\"]).size().unstack().max()\n",
    "dataGrp1"
   ]
  },
  {
   "cell_type": "markdown",
   "metadata": {},
   "source": [
    "### State with the highest percentage of unresolved complaints"
   ]
  },
  {
   "cell_type": "code",
   "execution_count": 202,
   "metadata": {},
   "outputs": [
    {
     "data": {
      "text/plain": [
       "State\n",
       "Alabama                  1.740812\n",
       "Arizona                  1.160542\n",
       "California              11.798839\n",
       "Colorado                 4.255319\n",
       "Connecticut              0.580271\n",
       "Delaware                 0.773694\n",
       "District Of Columbia     0.386847\n",
       "Florida                  7.543520\n",
       "Georgia                 15.473888\n",
       "Illinois                 5.609284\n",
       "Indiana                  1.740812\n",
       "Kansas                   0.193424\n",
       "Kentucky                 0.580271\n",
       "Louisiana                0.193424\n",
       "Maine                    0.386847\n",
       "Maryland                 2.901354\n",
       "Massachusetts            2.127660\n",
       "Michigan                 4.448743\n",
       "Minnesota                0.773694\n",
       "Mississippi              3.094778\n",
       "Missouri                 0.193424\n",
       "New Hampshire            0.773694\n",
       "New Jersey               3.675048\n",
       "New Mexico               0.773694\n",
       "Oregon                   2.514507\n",
       "Pennsylvania             3.868472\n",
       "South Carolina           0.580271\n",
       "Tennessee                9.090909\n",
       "Texas                    4.255319\n",
       "Utah                     1.160542\n",
       "Vermont                  0.193424\n",
       "Virginia                 2.127660\n",
       "Washington               4.448743\n",
       "West Virginia            0.580271\n",
       "Name: unresolvedComp, dtype: float64"
      ]
     },
     "execution_count": 202,
     "metadata": {},
     "output_type": "execute_result"
    }
   ],
   "source": [
    "dataGrp['unresolvedComp'] = dataGrp['Open']/dataGrp['Open'].sum()*100 # To find the percentage of the unresloved Complanits\n",
    "dataGrp['unresolvedComp']"
   ]
  },
  {
   "cell_type": "code",
   "execution_count": 203,
   "metadata": {},
   "outputs": [
    {
     "data": {
      "text/html": [
       "<div>\n",
       "<style scoped>\n",
       "    .dataframe tbody tr th:only-of-type {\n",
       "        vertical-align: middle;\n",
       "    }\n",
       "\n",
       "    .dataframe tbody tr th {\n",
       "        vertical-align: top;\n",
       "    }\n",
       "\n",
       "    .dataframe thead th {\n",
       "        text-align: right;\n",
       "    }\n",
       "</style>\n",
       "<table border=\"1\" class=\"dataframe\">\n",
       "  <thead>\n",
       "    <tr style=\"text-align: right;\">\n",
       "      <th>newStatus</th>\n",
       "      <th>Closed</th>\n",
       "      <th>Open</th>\n",
       "      <th>resolvedComp</th>\n",
       "      <th>unresolvedComp</th>\n",
       "    </tr>\n",
       "    <tr>\n",
       "      <th>State</th>\n",
       "      <th></th>\n",
       "      <th></th>\n",
       "      <th></th>\n",
       "      <th></th>\n",
       "    </tr>\n",
       "  </thead>\n",
       "  <tbody>\n",
       "    <tr>\n",
       "      <th>Georgia</th>\n",
       "      <td>208.0</td>\n",
       "      <td>80.0</td>\n",
       "      <td>12.351544</td>\n",
       "      <td>15.473888</td>\n",
       "    </tr>\n",
       "  </tbody>\n",
       "</table>\n",
       "</div>"
      ],
      "text/plain": [
       "newStatus  Closed  Open  resolvedComp  unresolvedComp\n",
       "State                                                \n",
       "Georgia     208.0  80.0     12.351544       15.473888"
      ]
     },
     "execution_count": 203,
     "metadata": {},
     "output_type": "execute_result"
    }
   ],
   "source": [
    "dataGrp.sort_values('unresolvedComp',axis = 0,ascending=False)[:1]"
   ]
  },
  {
   "cell_type": "markdown",
   "metadata": {},
   "source": [
    "### Percentage of complaints resolved till date, which were received through the Internet and customer care calls"
   ]
  },
  {
   "cell_type": "code",
   "execution_count": 207,
   "metadata": {},
   "outputs": [
    {
     "data": {
      "text/html": [
       "<div>\n",
       "<style scoped>\n",
       "    .dataframe tbody tr th:only-of-type {\n",
       "        vertical-align: middle;\n",
       "    }\n",
       "\n",
       "    .dataframe tbody tr th {\n",
       "        vertical-align: top;\n",
       "    }\n",
       "\n",
       "    .dataframe thead th {\n",
       "        text-align: right;\n",
       "    }\n",
       "</style>\n",
       "<table border=\"1\" class=\"dataframe\">\n",
       "  <thead>\n",
       "    <tr style=\"text-align: right;\">\n",
       "      <th>newStatus</th>\n",
       "      <th>Closed</th>\n",
       "      <th>Open</th>\n",
       "    </tr>\n",
       "    <tr>\n",
       "      <th>Received Via</th>\n",
       "      <th></th>\n",
       "      <th></th>\n",
       "    </tr>\n",
       "  </thead>\n",
       "  <tbody>\n",
       "    <tr>\n",
       "      <th>Customer Care Call</th>\n",
       "      <td>864</td>\n",
       "      <td>255</td>\n",
       "    </tr>\n",
       "    <tr>\n",
       "      <th>Internet</th>\n",
       "      <td>843</td>\n",
       "      <td>262</td>\n",
       "    </tr>\n",
       "  </tbody>\n",
       "</table>\n",
       "</div>"
      ],
      "text/plain": [
       "newStatus           Closed  Open\n",
       "Received Via                    \n",
       "Customer Care Call     864   255\n",
       "Internet               843   262"
      ]
     },
     "execution_count": 207,
     "metadata": {},
     "output_type": "execute_result"
    }
   ],
   "source": [
    "dataGrp2 = data.groupby([\"Received Via\",\"newStatus\"]).size().unstack() #Now grouping data by \"Received Via\"\n",
    "dataGrp2"
   ]
  },
  {
   "cell_type": "code",
   "execution_count": 208,
   "metadata": {},
   "outputs": [
    {
     "data": {
      "text/plain": [
       "Received Via\n",
       "Customer Care Call    50.615114\n",
       "Internet              49.384886\n",
       "Name: resolvedComp, dtype: float64"
      ]
     },
     "execution_count": 208,
     "metadata": {},
     "output_type": "execute_result"
    }
   ],
   "source": [
    "dataGrp2['resolvedComp'] = dataGrp2['Closed']/dataGrp2['Closed'].sum()*100 # To find the percentage of the resloved Complanits\n",
    "dataGrp2['resolvedComp']"
   ]
  }
 ],
 "metadata": {
  "kernelspec": {
   "display_name": "Python 3",
   "language": "python",
   "name": "python3"
  },
  "language_info": {
   "codemirror_mode": {
    "name": "ipython",
    "version": 3
   },
   "file_extension": ".py",
   "mimetype": "text/x-python",
   "name": "python",
   "nbconvert_exporter": "python",
   "pygments_lexer": "ipython3",
   "version": "3.7.6"
  }
 },
 "nbformat": 4,
 "nbformat_minor": 4
}
